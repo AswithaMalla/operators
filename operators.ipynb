{
  "nbformat": 4,
  "nbformat_minor": 0,
  "metadata": {
    "colab": {
      "provenance": [],
      "authorship_tag": "ABX9TyNF72lzq9RlPpXFxEfIVRiM",
      "include_colab_link": true
    },
    "kernelspec": {
      "name": "python3",
      "display_name": "Python 3"
    },
    "language_info": {
      "name": "python"
    }
  },
  "cells": [
    {
      "cell_type": "markdown",
      "metadata": {
        "id": "view-in-github",
        "colab_type": "text"
      },
      "source": [
        "<a href=\"https://colab.research.google.com/github/AswithaMalla/operators/blob/main/operators.ipynb\" target=\"_parent\"><img src=\"https://colab.research.google.com/assets/colab-badge.svg\" alt=\"Open In Colab\"/></a>"
      ]
    },
    {
      "cell_type": "code",
      "execution_count": null,
      "metadata": {
        "id": "b5G3hTvlQ_4B"
      },
      "outputs": [],
      "source": [
        "addition +\n",
        "subtraction -\n",
        "multiplication *\n",
        "division /\n",
        "remainder %\n",
        "power **\n",
        "floor division //"
      ]
    },
    {
      "cell_type": "code",
      "source": [
        "a=18\n",
        "b=28\n",
        "print(a)\n",
        "print(b)"
      ],
      "metadata": {
        "colab": {
          "base_uri": "https://localhost:8080/"
        },
        "id": "oQB1aNqdREo-",
        "outputId": "a44314d5-ded4-4cae-ab75-de170d8b2c50"
      },
      "execution_count": 1,
      "outputs": [
        {
          "output_type": "stream",
          "name": "stdout",
          "text": [
            "18\n",
            "28\n"
          ]
        }
      ]
    },
    {
      "cell_type": "code",
      "source": [
        "c=a+b\n",
        "print(c)"
      ],
      "metadata": {
        "colab": {
          "base_uri": "https://localhost:8080/"
        },
        "id": "LjhIZcIARPlh",
        "outputId": "216d4a5f-b924-43ad-ba3e-14e163d73592"
      },
      "execution_count": 2,
      "outputs": [
        {
          "output_type": "stream",
          "name": "stdout",
          "text": [
            "46\n"
          ]
        }
      ]
    },
    {
      "cell_type": "code",
      "source": [
        "d=b-a\n",
        "print(d)"
      ],
      "metadata": {
        "colab": {
          "base_uri": "https://localhost:8080/"
        },
        "id": "e87Mj965Ra0z",
        "outputId": "0b304856-765c-4ed0-951b-57c7ae971835"
      },
      "execution_count": 3,
      "outputs": [
        {
          "output_type": "stream",
          "name": "stdout",
          "text": [
            "10\n"
          ]
        }
      ]
    },
    {
      "cell_type": "code",
      "source": [
        "e=a*b\n",
        "print(e)"
      ],
      "metadata": {
        "colab": {
          "base_uri": "https://localhost:8080/"
        },
        "id": "BjY6eBqfRdYa",
        "outputId": "e0287879-1f1f-44ab-ff8f-db2a20369743"
      },
      "execution_count": 4,
      "outputs": [
        {
          "output_type": "stream",
          "name": "stdout",
          "text": [
            "504\n"
          ]
        }
      ]
    },
    {
      "cell_type": "code",
      "source": [
        "f=a/b\n",
        "print(f)"
      ],
      "metadata": {
        "colab": {
          "base_uri": "https://localhost:8080/"
        },
        "id": "fTUK83Q9Rhr_",
        "outputId": "f73713a8-bfa4-4c37-dca8-db80a0ac7cd9"
      },
      "execution_count": 5,
      "outputs": [
        {
          "output_type": "stream",
          "name": "stdout",
          "text": [
            "0.6428571428571429\n"
          ]
        }
      ]
    },
    {
      "cell_type": "code",
      "source": [
        "f=a/b\n",
        "print(f)"
      ],
      "metadata": {
        "colab": {
          "base_uri": "https://localhost:8080/"
        },
        "id": "YALAN2S9Rj9K",
        "outputId": "be067831-6324-4965-c551-403b211adaa7"
      },
      "execution_count": 6,
      "outputs": [
        {
          "output_type": "stream",
          "name": "stdout",
          "text": [
            "0.6428571428571429\n"
          ]
        }
      ]
    },
    {
      "cell_type": "code",
      "source": [
        "h=a**b\n",
        "print(h)"
      ],
      "metadata": {
        "colab": {
          "base_uri": "https://localhost:8080/"
        },
        "id": "ILqx4oBmRnJn",
        "outputId": "c81671fc-cf44-498f-84a9-a46a7c4ac005"
      },
      "execution_count": 7,
      "outputs": [
        {
          "output_type": "stream",
          "name": "stdout",
          "text": [
            "140485060518220186283313934500888576\n"
          ]
        }
      ]
    },
    {
      "cell_type": "code",
      "source": [
        "i=a//b\n",
        "print(i)"
      ],
      "metadata": {
        "colab": {
          "base_uri": "https://localhost:8080/"
        },
        "id": "Z18AqDjhRqC2",
        "outputId": "8e8cedec-fc82-44d0-eb1d-4202dc0bd09d"
      },
      "execution_count": 8,
      "outputs": [
        {
          "output_type": "stream",
          "name": "stdout",
          "text": [
            "0\n"
          ]
        }
      ]
    },
    {
      "cell_type": "code",
      "source": [
        "x=18\n",
        "y=28\n",
        "a=x+y\n",
        "print(a)"
      ],
      "metadata": {
        "colab": {
          "base_uri": "https://localhost:8080/"
        },
        "id": "rkgpMPUURs52",
        "outputId": "1fc79f25-8b74-4b4c-cc67-705de02d19f1"
      },
      "execution_count": 9,
      "outputs": [
        {
          "output_type": "stream",
          "name": "stdout",
          "text": [
            "46\n"
          ]
        }
      ]
    },
    {
      "cell_type": "code",
      "source": [
        "9>10"
      ],
      "metadata": {
        "colab": {
          "base_uri": "https://localhost:8080/"
        },
        "id": "Py8NQGn5Rvqo",
        "outputId": "56196904-67be-4d9b-ff2b-0c382317c14e"
      },
      "execution_count": 10,
      "outputs": [
        {
          "output_type": "execute_result",
          "data": {
            "text/plain": [
              "False"
            ]
          },
          "metadata": {},
          "execution_count": 10
        }
      ]
    },
    {
      "cell_type": "code",
      "source": [
        "x<=y"
      ],
      "metadata": {
        "colab": {
          "base_uri": "https://localhost:8080/"
        },
        "id": "IjXcxNZiR-jk",
        "outputId": "0a353bcf-9f4a-4c78-e14b-990326c517de"
      },
      "execution_count": 11,
      "outputs": [
        {
          "output_type": "execute_result",
          "data": {
            "text/plain": [
              "True"
            ]
          },
          "metadata": {},
          "execution_count": 11
        }
      ]
    },
    {
      "cell_type": "code",
      "source": [],
      "metadata": {
        "id": "c4M33kH7SCnd"
      },
      "execution_count": null,
      "outputs": []
    }
  ]
}